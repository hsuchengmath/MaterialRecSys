{
 "cells": [
  {
   "cell_type": "code",
   "execution_count": null,
   "id": "cc57eff6-bf2e-499c-bf94-c09013621e79",
   "metadata": {},
   "outputs": [],
   "source": []
  },
  {
   "cell_type": "code",
   "execution_count": null,
   "id": "15179c74-f71e-4479-a5cc-567255223da5",
   "metadata": {},
   "outputs": [],
   "source": [
    "'''\n",
    "1. load model [DONE]\n",
    "2. load test data [DONE]\n",
    "3. mapping idx to organic name [DONE]\n",
    "4. call explainable_eval function [DONE]\n",
    "'''"
   ]
  },
  {
   "cell_type": "code",
   "execution_count": 1,
   "id": "7143a73f-a5a5-4241-a0c5-fc686bdeeb29",
   "metadata": {},
   "outputs": [],
   "source": [
    "import pickle\n",
    "from utils import load_stanby_model, explainable_demo"
   ]
  },
  {
   "cell_type": "code",
   "execution_count": 2,
   "id": "25102e4f-a353-4456-9a51-5b07ef77c324",
   "metadata": {},
   "outputs": [],
   "source": [
    "head_path = 'result/'\n",
    "tail_path = 'SASRec.dataset=class_data.epoch=100.lr=0.001.layer=2.head=1.hidden=50.maxlen=10'"
   ]
  },
  {
   "cell_type": "code",
   "execution_count": 3,
   "id": "f3b89337-12e0-4b56-b863-33fec79787ad",
   "metadata": {},
   "outputs": [
    {
     "data": {
      "text/plain": [
       "dict_keys(['user_train', 'user_valid', 'user_test', 'usernum', 'itemnum', 'bucket_idx2entity'])"
      ]
     },
     "execution_count": 3,
     "metadata": {},
     "output_type": "execute_result"
    }
   ],
   "source": [
    "# load base data\n",
    "with open(head_path+tail_path+'.pkl', \"rb\") as f:\n",
    "    basic_info = pickle.load(f)\n",
    "basic_info.keys()"
   ]
  },
  {
   "cell_type": "code",
   "execution_count": 4,
   "id": "92c8cdf4-72bc-4f35-888b-8c3e40bae65b",
   "metadata": {},
   "outputs": [
    {
     "name": "stderr",
     "output_type": "stream",
     "text": [
      "/home/hsucheng/.local/lib/python3.6/site-packages/pandas/core/frame.py:1490: FutureWarning: Using short name for 'orient' is deprecated. Only the options: ('dict', list, 'series', 'split', 'records', 'index') will be used in a future version. Use one of the above to silence this warning.\n",
      "  FutureWarning,\n"
     ]
    },
    {
     "name": "stdout",
     "output_type": "stream",
     "text": [
      "average sequence length: 13.21\n"
     ]
    }
   ],
   "source": [
    "model, args = load_stanby_model(maxlen=10, state_dict_path=head_path+tail_path+'.pth')"
   ]
  },
  {
   "cell_type": "code",
   "execution_count": 5,
   "id": "843cd4f0-d847-4a6e-a265-dc0c1b3fcd7f",
   "metadata": {},
   "outputs": [],
   "source": [
    "# mapping idx to organic_idx\n",
    "organic_idx2user = basic_info['bucket_idx2entity']['organic_idx2user']\n",
    "organic_idx2item = basic_info['bucket_idx2entity']['organic_idx2item']\n",
    "user2organic_idx = dict()\n",
    "item2organic_idx = dict()\n",
    "for key in list(organic_idx2user.keys()):\n",
    "    user2organic_idx[organic_idx2user[key]] = key\n",
    "for key in list(organic_idx2item.keys()):\n",
    "    item2organic_idx[organic_idx2item[key]] = key"
   ]
  },
  {
   "cell_type": "code",
   "execution_count": 33,
   "id": "f146237c-40ff-44fd-9239-1cec9db10765",
   "metadata": {},
   "outputs": [],
   "source": [
    "user_train = basic_info['user_train']\n",
    "user_valid = basic_info['user_valid']\n",
    "user_test = basic_info['user_test']\n",
    "usernum = basic_info['usernum']\n",
    "itemnum = basic_info['itemnum']\n",
    "bucket_idx2entity = basic_info['bucket_idx2entity']\n",
    "dataset = [user_train, user_valid, user_test, usernum, itemnum, bucket_idx2entity]\n",
    "item_with_pred, source_item2attn_score, y, u = explainable_demo(model, dataset, args)"
   ]
  },
  {
   "cell_type": "code",
   "execution_count": 34,
   "id": "4059fbec-0c6a-45d4-931f-6d9480543fce",
   "metadata": {},
   "outputs": [
    {
     "data": {
      "text/plain": [
       "510064407"
      ]
     },
     "execution_count": 34,
     "metadata": {},
     "output_type": "execute_result"
    }
   ],
   "source": [
    "user2organic_idx[u]"
   ]
  },
  {
   "cell_type": "code",
   "execution_count": 35,
   "id": "ab3debec-c46b-497f-bf39-0d9bb4623aa9",
   "metadata": {},
   "outputs": [
    {
     "data": {
      "text/plain": [
       "109848"
      ]
     },
     "execution_count": 35,
     "metadata": {},
     "output_type": "execute_result"
    }
   ],
   "source": [
    "item2organic_idx[y]"
   ]
  },
  {
   "cell_type": "code",
   "execution_count": 36,
   "id": "f857bc87-8620-4369-96c9-dc1a5f35cc40",
   "metadata": {},
   "outputs": [
    {
     "data": {
      "text/plain": [
       "[[103281, 4.131290435791016],\n",
       " [122389, 3.4037787914276123],\n",
       " [109848, 3.0504190921783447],\n",
       " [108374, 2.9418418407440186],\n",
       " [108374, 2.9418418407440186],\n",
       " [111585, 2.6721596717834473],\n",
       " [136221, 2.6634271144866943],\n",
       " [126660, 1.9634792804718018],\n",
       " [111916, 1.0577197074890137],\n",
       " [113848, 1.0363866090774536],\n",
       " [110074, 0.5220351815223694],\n",
       " [110023, 0.46295011043548584],\n",
       " [110902, 0.1834004521369934],\n",
       " [109680, 0.13126438856124878],\n",
       " [109001, -0.11860799789428711],\n",
       " [105224, -0.34788262844085693],\n",
       " [119211, -1.479801058769226],\n",
       " [104386, -1.5662596225738525],\n",
       " [108448, -1.5710504055023193],\n",
       " [113530, -1.5915262699127197],\n",
       " [101547, -1.9353578090667725],\n",
       " [117996, -2.0427098274230957],\n",
       " [110937, -2.0952131748199463],\n",
       " [100180, -2.420679807662964],\n",
       " [112011, -2.785719394683838],\n",
       " [113516, -2.950430393218994],\n",
       " [120089, -3.111088514328003],\n",
       " [125731, -3.706895351409912],\n",
       " [120112, -3.7768867015838623],\n",
       " [111378, -3.848083019256592],\n",
       " [107791, -4.117750644683838],\n",
       " [105330, -4.148382663726807],\n",
       " [111499, -4.348701477050781],\n",
       " [129580, -4.361081600189209],\n",
       " [108730, -4.458554267883301],\n",
       " [109907, -4.491214275360107],\n",
       " [120014, -4.508275985717773],\n",
       " [113501, -4.7238264083862305],\n",
       " [111233, -4.7800469398498535],\n",
       " [111362, -4.8673224449157715],\n",
       " [100757, -4.914952278137207],\n",
       " [112388, -4.998736381530762],\n",
       " [109838, -5.125626564025879],\n",
       " [108523, -5.127928256988525],\n",
       " [111040, -5.206399917602539],\n",
       " [112497, -5.332597255706787],\n",
       " [112497, -5.332597255706787],\n",
       " [114858, -5.363962173461914],\n",
       " [129169, -5.407646656036377],\n",
       " [134986, -5.59393835067749],\n",
       " [105398, -5.713808536529541],\n",
       " [111453, -5.801078796386719],\n",
       " [111661, -5.808584690093994],\n",
       " [122194, -5.815493106842041],\n",
       " [122412, -5.922014236450195],\n",
       " [109238, -6.187138557434082],\n",
       " [129398, -6.232290267944336],\n",
       " [108235, -6.284719467163086],\n",
       " [135005, -6.519402503967285],\n",
       " [110458, -6.5686750411987305],\n",
       " [122503, -6.76447057723999],\n",
       " [117536, -6.938786029815674],\n",
       " [111846, -7.112259864807129],\n",
       " [131090, -7.122082233428955],\n",
       " [109129, -7.233675956726074],\n",
       " [126139, -7.290322303771973],\n",
       " [100779, -7.5517778396606445],\n",
       " [103038, -7.668240070343018],\n",
       " [136280, -7.702115058898926],\n",
       " [109188, -8.019237518310547],\n",
       " [123065, -8.172566413879395],\n",
       " [110920, -8.508660316467285],\n",
       " [130667, -8.816038131713867],\n",
       " [113045, -8.957010269165039],\n",
       " [112749, -9.274140357971191],\n",
       " [108883, -9.626860618591309],\n",
       " [121124, -9.652015686035156],\n",
       " [111114, -9.899577140808105],\n",
       " [121696, -10.210664749145508],\n",
       " [109792, -10.727705001831055],\n",
       " [116143, -10.77984619140625],\n",
       " [110973, -10.867152214050293],\n",
       " [108830, -11.319925308227539],\n",
       " [121360, -11.717491149902344],\n",
       " [134500, -12.299588203430176],\n",
       " [115983, -15.732195854187012],\n",
       " [122477, -16.487045288085938],\n",
       " [122186, -16.84459686279297],\n",
       " [121693, -16.987171173095703],\n",
       " [134847, -17.08875846862793],\n",
       " [120577, -17.143091201782227],\n",
       " [129116, -17.160240173339844],\n",
       " [112622, -17.589820861816406],\n",
       " [127186, -17.632591247558594],\n",
       " [122149, -17.78636932373047],\n",
       " [113320, -18.066261291503906],\n",
       " [122431, -18.091171264648438],\n",
       " [118616, -18.15513038635254],\n",
       " [121559, -18.155826568603516],\n",
       " [122380, -18.204025268554688],\n",
       " [120620, -18.249099731445312]]"
      ]
     },
     "execution_count": 36,
     "metadata": {},
     "output_type": "execute_result"
    }
   ],
   "source": [
    "[[item2organic_idx[element[0]], element[1]] for element in item_with_pred]"
   ]
  },
  {
   "cell_type": "code",
   "execution_count": 37,
   "id": "5c344877-4ea2-4ead-8916-c098a4c64a74",
   "metadata": {},
   "outputs": [
    {
     "data": {
      "text/plain": [
       "{135996: 0.062501922249794,\n",
       " 100899: 0.11981217563152313,\n",
       " 116844: 0.19507823884487152,\n",
       " 116959: 0.1719551682472229,\n",
       " 120525: 0.09315166622400284,\n",
       " 110562: 0.08322034031152725,\n",
       " 110949: 0.07637594640254974}"
      ]
     },
     "execution_count": 37,
     "metadata": {},
     "output_type": "execute_result"
    }
   ],
   "source": [
    "source_item2attn_score_update = dict()\n",
    "for key in list(source_item2attn_score.keys()):\n",
    "    if key != 0:\n",
    "        source_item2attn_score_update[item2organic_idx[key]] = source_item2attn_score[key]\n",
    "source_item2attn_score_update"
   ]
  },
  {
   "cell_type": "code",
   "execution_count": null,
   "id": "5e06e11a-2c78-48d6-bf4e-1afe51a218ed",
   "metadata": {},
   "outputs": [],
   "source": []
  },
  {
   "cell_type": "code",
   "execution_count": 38,
   "id": "0cf40881-f920-4042-bbfb-56e316d20af3",
   "metadata": {},
   "outputs": [
    {
     "data": {
      "text/plain": [
       "6"
      ]
     },
     "execution_count": 38,
     "metadata": {},
     "output_type": "execute_result"
    }
   ],
   "source": [
    "len(user_train[u])"
   ]
  },
  {
   "cell_type": "code",
   "execution_count": null,
   "id": "abb6166e-5167-47a7-a8be-e5ce2a012070",
   "metadata": {},
   "outputs": [],
   "source": []
  }
 ],
 "metadata": {
  "kernelspec": {
   "display_name": "Python 3",
   "language": "python",
   "name": "python3"
  },
  "language_info": {
   "codemirror_mode": {
    "name": "ipython",
    "version": 3
   },
   "file_extension": ".py",
   "mimetype": "text/x-python",
   "name": "python",
   "nbconvert_exporter": "python",
   "pygments_lexer": "ipython3",
   "version": "3.6.9"
  }
 },
 "nbformat": 4,
 "nbformat_minor": 5
}
