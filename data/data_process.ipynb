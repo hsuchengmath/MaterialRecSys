{
 "cells": [
  {
   "cell_type": "code",
   "execution_count": null,
   "id": "c19a4c32-6823-4b0c-81cf-77ff3aabb939",
   "metadata": {},
   "outputs": [],
   "source": []
  },
  {
   "cell_type": "code",
   "execution_count": null,
   "id": "2cc5492f-874b-4af8-939a-0a3ecaaea042",
   "metadata": {},
   "outputs": [],
   "source": []
  },
  {
   "cell_type": "code",
   "execution_count": null,
   "id": "4f741989-f11f-4d1d-8abd-d1ccc842c4bc",
   "metadata": {},
   "outputs": [],
   "source": [
    "'''\n",
    "user\n",
    "mat\n",
    "tag\n",
    "age (~20, 21-30, 31-40, 41-50, 51-60, 60~)\n",
    "eng_lv (1,2,3,...,12)\n",
    "'''"
   ]
  },
  {
   "cell_type": "code",
   "execution_count": null,
   "id": "72c6cd9b-7a73-49f4-ac74-07a0464facb9",
   "metadata": {},
   "outputs": [],
   "source": [
    "'''\n",
    "1. load data\n",
    "2. entity_name2idx\n",
    "'''"
   ]
  },
  {
   "cell_type": "code",
   "execution_count": null,
   "id": "e6702766-547f-4f11-ad94-6db601862c70",
   "metadata": {},
   "outputs": [],
   "source": []
  },
  {
   "cell_type": "code",
   "execution_count": 107,
   "id": "747c311d-fae8-4a6d-a8cf-377e71be9dfa",
   "metadata": {},
   "outputs": [
    {
     "data": {
      "text/plain": [
       "dict_keys(['class_dat', 'mat2dcgs_tag', 'mat2eng_level', 'mat2title_sm', 'user2dcgs_tag', 'user2age', 'user2eng_level'])"
      ]
     },
     "execution_count": 107,
     "metadata": {},
     "output_type": "execute_result"
    }
   ],
   "source": [
    "# load base data\n",
    "import pickle\n",
    "path = 'organic_class_kg1_2022_1_3.pkl'\n",
    "with open(path, \"rb\") as f:\n",
    "    basic_info = pickle.load(f)\n",
    "basic_info.keys()"
   ]
  },
  {
   "cell_type": "code",
   "execution_count": 108,
   "id": "4c89834c-58f3-4281-978d-9135702178e6",
   "metadata": {},
   "outputs": [
    {
     "data": {
      "text/html": [
       "<div>\n",
       "<style scoped>\n",
       "    .dataframe tbody tr th:only-of-type {\n",
       "        vertical-align: middle;\n",
       "    }\n",
       "\n",
       "    .dataframe tbody tr th {\n",
       "        vertical-align: top;\n",
       "    }\n",
       "\n",
       "    .dataframe thead th {\n",
       "        text-align: right;\n",
       "    }\n",
       "</style>\n",
       "<table border=\"1\" class=\"dataframe\">\n",
       "  <thead>\n",
       "    <tr style=\"text-align: right;\">\n",
       "      <th></th>\n",
       "      <th>client_sn</th>\n",
       "      <th>attend_level</th>\n",
       "      <th>attend_datetime</th>\n",
       "      <th>MaterialID</th>\n",
       "      <th>M_Point</th>\n",
       "    </tr>\n",
       "  </thead>\n",
       "  <tbody>\n",
       "    <tr>\n",
       "      <th>30824</th>\n",
       "      <td>382034</td>\n",
       "      <td>12</td>\n",
       "      <td>2022-01-01 00:30:00</td>\n",
       "      <td>136057</td>\n",
       "      <td>10.0</td>\n",
       "    </tr>\n",
       "    <tr>\n",
       "      <th>36830</th>\n",
       "      <td>241953</td>\n",
       "      <td>12</td>\n",
       "      <td>2022-01-01 02:30:00</td>\n",
       "      <td>120129</td>\n",
       "      <td>10.0</td>\n",
       "    </tr>\n",
       "    <tr>\n",
       "      <th>31458</th>\n",
       "      <td>2984802</td>\n",
       "      <td>12</td>\n",
       "      <td>2022-01-01 05:30:00</td>\n",
       "      <td>106151</td>\n",
       "      <td>10.0</td>\n",
       "    </tr>\n",
       "  </tbody>\n",
       "</table>\n",
       "</div>"
      ],
      "text/plain": [
       "       client_sn  attend_level     attend_datetime  MaterialID  M_Point\n",
       "30824     382034            12 2022-01-01 00:30:00      136057     10.0\n",
       "36830     241953            12 2022-01-01 02:30:00      120129     10.0\n",
       "31458    2984802            12 2022-01-01 05:30:00      106151     10.0"
      ]
     },
     "execution_count": 108,
     "metadata": {},
     "output_type": "execute_result"
    }
   ],
   "source": [
    "class_dat = basic_info['class_dat']\n",
    "class_dat.head(3)"
   ]
  },
  {
   "cell_type": "code",
   "execution_count": 109,
   "id": "0706ae7d-8d32-4a1d-a990-c1b24adaeaa1",
   "metadata": {},
   "outputs": [
    {
     "data": {
      "text/plain": [
       "Timestamp('2022-03-25 10:30:00')"
      ]
     },
     "execution_count": 109,
     "metadata": {},
     "output_type": "execute_result"
    }
   ],
   "source": [
    "max(class_dat['attend_datetime'])"
   ]
  },
  {
   "cell_type": "code",
   "execution_count": 110,
   "id": "a416a92d-1790-43bb-9505-4ec47d1257e6",
   "metadata": {},
   "outputs": [],
   "source": [
    "train_ed_date = '2022-03-10 00:30:00'\n",
    "val_ed_date = '2022-03-15 00:30:00'\n",
    "test_ed_date = '2022-03-26 00:30:00'"
   ]
  },
  {
   "cell_type": "code",
   "execution_count": 111,
   "id": "77ab5cc9-5438-44ca-996f-bc78749c87ce",
   "metadata": {},
   "outputs": [],
   "source": [
    "train_class_dat = class_dat[class_dat['attend_datetime'] <= train_ed_date]\n",
    "val_class_dat = class_dat[(class_dat['attend_datetime'] <= val_ed_date) & \n",
    "                            (class_dat['attend_datetime'] > train_ed_date)]\n",
    "test_class_dat = class_dat[(class_dat['attend_datetime'] <= test_ed_date) & \n",
    "                           (class_dat['attend_datetime'] > val_ed_date)]"
   ]
  },
  {
   "cell_type": "code",
   "execution_count": 112,
   "id": "1ed3ce6c-4cd3-4e76-84dc-23ac60d5261b",
   "metadata": {},
   "outputs": [
    {
     "data": {
      "text/plain": [
       "(65695, 5)"
      ]
     },
     "execution_count": 112,
     "metadata": {},
     "output_type": "execute_result"
    }
   ],
   "source": [
    "train_class_dat.shape"
   ]
  },
  {
   "cell_type": "code",
   "execution_count": 113,
   "id": "c1d1b31a-1ffc-460f-acf4-3534ebed01e2",
   "metadata": {},
   "outputs": [
    {
     "data": {
      "text/plain": [
       "(5772, 5)"
      ]
     },
     "execution_count": 113,
     "metadata": {},
     "output_type": "execute_result"
    }
   ],
   "source": [
    "val_class_dat.shape"
   ]
  },
  {
   "cell_type": "code",
   "execution_count": 114,
   "id": "9dfe3d3d-1f4f-4a23-975c-419ea9aa46dd",
   "metadata": {},
   "outputs": [
    {
     "data": {
      "text/plain": [
       "(12134, 5)"
      ]
     },
     "execution_count": 114,
     "metadata": {},
     "output_type": "execute_result"
    }
   ],
   "source": [
    "test_class_dat.shape"
   ]
  },
  {
   "cell_type": "code",
   "execution_count": 115,
   "id": "264c7cb2-5175-412e-8da3-6542ac1e417a",
   "metadata": {},
   "outputs": [],
   "source": [
    "train_triple_data = [[0,0,0]]\n",
    "val_triple_data = []\n",
    "test_triple_data = []\n",
    "entity_idx = 1\n",
    "entity_name2idx = {'padding':0}\n",
    "relation_name2idx = {'user-prefer_mat' : 0, \n",
    "                     'user-tag' : 1,\n",
    "                     'mat-tag' : 2,\n",
    "                     'mat-englv' : 3,\n",
    "                     'user-age' : 4}"
   ]
  },
  {
   "cell_type": "code",
   "execution_count": 116,
   "id": "43f487d2-5f2f-40e5-8ba2-2902886ed0f5",
   "metadata": {},
   "outputs": [
    {
     "name": "stderr",
     "output_type": "stream",
     "text": [
      "/home/hsucheng/.local/lib/python3.6/site-packages/pandas/core/frame.py:1490: FutureWarning: Using short name for 'orient' is deprecated. Only the options: ('dict', list, 'series', 'split', 'records', 'index') will be used in a future version. Use one of the above to silence this warning.\n",
      "  FutureWarning,\n"
     ]
    }
   ],
   "source": [
    "# collect max score for user\n",
    "user2max_score = dict()\n",
    "dat = class_dat.groupby(by='client_sn').max()\n",
    "dat['client_sn'] = dat.index\n",
    "for element in dat.to_dict('reocrds'):\n",
    "    client_sn = element['client_sn']\n",
    "    M_Point = element['M_Point']\n",
    "    user2max_score[client_sn] = M_Point"
   ]
  },
  {
   "cell_type": "code",
   "execution_count": 117,
   "id": "f184db03-6c18-4e4e-8b0c-02abc53702bc",
   "metadata": {},
   "outputs": [],
   "source": [
    "def build_interaction_hrt(t_class_dat, user2max_score, entity_name2idx, triple_data, entity_idx):\n",
    "    for element in list(t_class_dat.to_dict('records')):\n",
    "        client_sn = element['client_sn']\n",
    "        MaterialID = element['MaterialID']\n",
    "        M_Point = element['M_Point'] \n",
    "        if M_Point >= user2max_score[client_sn]:\n",
    "            entity_name = str(client_sn)+'@'+'client_sn'\n",
    "            if entity_name not in entity_name2idx:\n",
    "                entity_name2idx[entity_name] = entity_idx\n",
    "                entity_idx +=1\n",
    "            entity_name = str(MaterialID)+'@'+'MaterialID'\n",
    "            if entity_name not in entity_name2idx:\n",
    "                entity_name2idx[entity_name] = entity_idx\n",
    "                entity_idx +=1   \n",
    "            h_idx = entity_name2idx[str(client_sn)+'@'+'client_sn']\n",
    "            t_idx = entity_name2idx[str(MaterialID)+'@'+'MaterialID']\n",
    "            r_idx = relation_name2idx['user-prefer_mat']\n",
    "            triple_data.append([h_idx, t_idx, r_idx])\n",
    "    return entity_name2idx, triple_data, entity_idx"
   ]
  },
  {
   "cell_type": "code",
   "execution_count": 118,
   "id": "0c5cfc4b-de00-4a3d-b44d-613612f09a21",
   "metadata": {},
   "outputs": [],
   "source": [
    "# train\n",
    "entity_name2idx, train_triple_data, entity_idx = \\\n",
    "    build_interaction_hrt(train_class_dat, user2max_score, entity_name2idx, train_triple_data, entity_idx)\n",
    "# val\n",
    "entity_name2idx, val_triple_data, entity_idx = \\\n",
    "    build_interaction_hrt(val_class_dat, user2max_score, entity_name2idx, val_triple_data, entity_idx)\n",
    "# test\n",
    "entity_name2idx, test_triple_data, entity_idx = \\\n",
    "    build_interaction_hrt(test_class_dat, user2max_score, entity_name2idx, test_triple_data, entity_idx)"
   ]
  },
  {
   "cell_type": "code",
   "execution_count": null,
   "id": "876284bd-4215-419a-9af8-4ef027cfe785",
   "metadata": {},
   "outputs": [],
   "source": []
  },
  {
   "cell_type": "code",
   "execution_count": 119,
   "id": "ea9e82ec-0660-429b-a0a1-ba2496b65444",
   "metadata": {},
   "outputs": [],
   "source": [
    "user2dcgs_tag = basic_info['user2dcgs_tag']\n",
    "mat2dcgs_tag = basic_info['mat2dcgs_tag']\n",
    "mat2eng_level = basic_info['mat2eng_level']\n",
    "user2age = basic_info['user2age']"
   ]
  },
  {
   "cell_type": "code",
   "execution_count": 120,
   "id": "0cf60265-a62d-439d-bc72-e2af4f7a5ed0",
   "metadata": {},
   "outputs": [],
   "source": [
    "def build_user_data_hrt(t_class_dat, user2dcgs_tag, entity_name2idx, entity_idx, triple_data, user2age):\n",
    "    for user in list(set(t_class_dat['client_sn'])):\n",
    "        # tag\n",
    "        if user in user2dcgs_tag:\n",
    "            tagList = list(user2dcgs_tag[user])\n",
    "        else:\n",
    "            tagList = []\n",
    "        for tag in tagList:\n",
    "            entity_name = str(tag)+'@'+'dcgs_tag'\n",
    "            if entity_name not in entity_name2idx:\n",
    "                entity_name2idx[entity_name] = entity_idx\n",
    "                entity_idx +=1\n",
    "            h_idx = entity_name2idx[str(user)+'@'+'client_sn']\n",
    "            t_idx = entity_name2idx[str(tag)+'@'+'dcgs_tag']\n",
    "            r_idx = relation_name2idx['user-tag']\n",
    "            triple_data.append([h_idx, t_idx, r_idx])\n",
    "        # age\n",
    "        if user in user2age:\n",
    "            age = user2age[user]\n",
    "        else:\n",
    "            age = 0\n",
    "        if age <= 20:\n",
    "            ageID = 0\n",
    "        elif 21 <= age <= 30:\n",
    "            ageID = 1\n",
    "        elif 31 <= age <= 40:\n",
    "            ageID = 2\n",
    "        elif 41 <= age <= 50:\n",
    "            ageID = 3\n",
    "        elif 51 <= age <= 60:\n",
    "            ageID = 4\n",
    "        else:\n",
    "            ageID = 5\n",
    "        entity_name = str(ageID)+'@'+'user_age'\n",
    "        if entity_name not in entity_name2idx:\n",
    "            entity_name2idx[entity_name] = entity_idx\n",
    "            entity_idx +=1\n",
    "        h_idx = entity_name2idx[str(user)+'@'+'client_sn']\n",
    "        t_idx = entity_name2idx[str(ageID)+'@'+'user_age']\n",
    "        r_idx = relation_name2idx['user-age']\n",
    "        triple_data.append([h_idx, t_idx, r_idx])\n",
    "  \n",
    "    return entity_name2idx, triple_data, entity_idx"
   ]
  },
  {
   "cell_type": "code",
   "execution_count": 121,
   "id": "9fe6f480-5d75-4326-80aa-89a8aeb4195e",
   "metadata": {},
   "outputs": [],
   "source": [
    "# user tag\n",
    "entity_name2idx, train_triple_data, entity_idx = \\\n",
    "    build_user_data_hrt(train_class_dat, user2dcgs_tag, entity_name2idx, entity_idx, train_triple_data, user2age)\n",
    "entity_name2idx, val_triple_data, entity_idx = \\\n",
    "    build_user_data_hrt(val_class_dat, user2dcgs_tag, entity_name2idx, entity_idx, val_triple_data ,user2age)\n",
    "entity_name2idx, test_triple_data, entity_idx = \\\n",
    "    build_user_data_hrt(test_class_dat, user2dcgs_tag, entity_name2idx, entity_idx, test_triple_data, user2age)"
   ]
  },
  {
   "cell_type": "code",
   "execution_count": 122,
   "id": "91bfd16d-cfbc-4064-becb-6a2bfbf58aaa",
   "metadata": {},
   "outputs": [],
   "source": [
    "def build_mat_data_hrt(t_class_dat, mat2dcgs_tag, entity_name2idx, entity_idx, triple_data, mat2eng_level):\n",
    "    for mat in list(set(t_class_dat['MaterialID'])):\n",
    "        # tag\n",
    "        if mat in mat2dcgs_tag and str(mat)+'@'+'MaterialID' in entity_name2idx:\n",
    "            tagList = list(mat2dcgs_tag[mat])\n",
    "        else:\n",
    "            tagList = []\n",
    "        for tag in tagList:\n",
    "            entity_name = str(tag)+'@'+'dcgs_tag'\n",
    "            if entity_name not in entity_name2idx:\n",
    "                entity_name2idx[entity_name] = entity_idx\n",
    "                entity_idx +=1\n",
    "            h_idx = entity_name2idx[str(mat)+'@'+'MaterialID']\n",
    "            t_idx = entity_name2idx[str(tag)+'@'+'dcgs_tag']\n",
    "            r_idx = relation_name2idx['user-tag']\n",
    "            triple_data.append([h_idx, t_idx, r_idx])\n",
    "        # lv\n",
    "        if mat in mat2eng_level and str(mat)+'@'+'MaterialID' in entity_name2idx:\n",
    "            try:\n",
    "                lvList = list(mat2eng_level[mat])\n",
    "            except:\n",
    "                lvList = []\n",
    "        else:\n",
    "            lvList = []\n",
    "        for lv in lvList:\n",
    "            entity_name = str(lv)+'@'+'eng_lv'\n",
    "            if entity_name not in entity_name2idx:\n",
    "                entity_name2idx[entity_name] = entity_idx\n",
    "                entity_idx +=1\n",
    "            h_idx = entity_name2idx[str(mat)+'@'+'MaterialID']\n",
    "            t_idx = entity_name2idx[str(lv)+'@'+'eng_lv']\n",
    "            r_idx = relation_name2idx['mat-englv']\n",
    "            triple_data.append([h_idx, t_idx, r_idx])\n",
    "    return entity_name2idx, triple_data, entity_idx"
   ]
  },
  {
   "cell_type": "code",
   "execution_count": 123,
   "id": "bf12eb12-4035-4f9d-ba68-812bcb549eed",
   "metadata": {},
   "outputs": [],
   "source": [
    "# mat tag\n",
    "entity_name2idx, train_triple_data, entity_idx = \\\n",
    "    build_mat_data_hrt(train_class_dat, mat2dcgs_tag, entity_name2idx, entity_idx, train_triple_data, mat2eng_level)\n",
    "entity_name2idx, val_triple_data, entity_idx = \\\n",
    "    build_mat_data_hrt(val_class_dat, mat2dcgs_tag, entity_name2idx, entity_idx, val_triple_data, mat2eng_level)\n",
    "entity_name2idx, test_triple_data, entity_idx = \\\n",
    "    build_mat_data_hrt(test_class_dat, mat2dcgs_tag, entity_name2idx, entity_idx, test_triple_data, mat2eng_level)"
   ]
  },
  {
   "cell_type": "code",
   "execution_count": 130,
   "id": "143a224c-c5f8-41f8-b263-8f2e455c8540",
   "metadata": {},
   "outputs": [
    {
     "data": {
      "text/plain": [
       "0"
      ]
     },
     "execution_count": 130,
     "metadata": {},
     "output_type": "execute_result"
    }
   ],
   "source": []
  },
  {
   "cell_type": "code",
   "execution_count": 124,
   "id": "6678bc14-2368-498d-bf13-8e708c1e685a",
   "metadata": {},
   "outputs": [
    {
     "data": {
      "text/plain": [
       "13700"
      ]
     },
     "execution_count": 124,
     "metadata": {},
     "output_type": "execute_result"
    }
   ],
   "source": [
    "len(entity_name2idx)"
   ]
  },
  {
   "cell_type": "code",
   "execution_count": 125,
   "id": "ea4edc89-465c-42d8-a321-0ad37349dfa5",
   "metadata": {},
   "outputs": [
    {
     "data": {
      "text/plain": [
       "114370"
      ]
     },
     "execution_count": 125,
     "metadata": {},
     "output_type": "execute_result"
    }
   ],
   "source": [
    "len(train_triple_data)"
   ]
  },
  {
   "cell_type": "code",
   "execution_count": 126,
   "id": "b3d7386a-eca0-491c-a2e1-b795281aad15",
   "metadata": {},
   "outputs": [
    {
     "data": {
      "text/plain": [
       "31580"
      ]
     },
     "execution_count": 126,
     "metadata": {},
     "output_type": "execute_result"
    }
   ],
   "source": [
    "len(val_triple_data)"
   ]
  },
  {
   "cell_type": "code",
   "execution_count": 127,
   "id": "c83749cd-011f-434d-8ff9-ea5e6d80b68b",
   "metadata": {},
   "outputs": [
    {
     "data": {
      "text/plain": [
       "46785"
      ]
     },
     "execution_count": 127,
     "metadata": {},
     "output_type": "execute_result"
    }
   ],
   "source": [
    "len(test_triple_data)"
   ]
  },
  {
   "cell_type": "code",
   "execution_count": 128,
   "id": "97c00404-a221-43b3-bda1-776a58d2f95e",
   "metadata": {},
   "outputs": [
    {
     "data": {
      "text/plain": [
       "5"
      ]
     },
     "execution_count": 128,
     "metadata": {},
     "output_type": "execute_result"
    }
   ],
   "source": [
    "len(relation_name2idx)"
   ]
  },
  {
   "cell_type": "code",
   "execution_count": null,
   "id": "2ad87fc7-d355-45f5-a1c5-bbf3c7747f51",
   "metadata": {},
   "outputs": [],
   "source": []
  },
  {
   "cell_type": "code",
   "execution_count": null,
   "id": "38f20202-c5cf-44f0-9125-27a6723f21ec",
   "metadata": {},
   "outputs": [],
   "source": []
  },
  {
   "cell_type": "code",
   "execution_count": null,
   "id": "35a09c49-96af-4608-95bf-f0dd8e0fc893",
   "metadata": {},
   "outputs": [],
   "source": []
  },
  {
   "cell_type": "code",
   "execution_count": null,
   "id": "446d081a-8bc0-491b-b608-80db8613fa1f",
   "metadata": {},
   "outputs": [],
   "source": [
    "'''\n",
    "Upstream\n",
    "1. OUTPUT : user_emb, item_emb [V]\n",
    "2. EVAL : user instance can be closed with matched tag instance [V]\n",
    "3. EVAL : user instance can be closed with favor item instance [V ; metric should be same with downstream]\n",
    "4. EVAL : item instance can be closed with matched tag instance [V]\n",
    "Downstram\n",
    "1. OUTPUT : pred_item LIST [V]\n",
    "2. EVAL : basic rank performance [V]\n",
    "3. EVAL : seq_item can be more semantic [?]\n",
    "'''"
   ]
  },
  {
   "cell_type": "code",
   "execution_count": null,
   "id": "dc29e0a0-ab59-4e74-948a-8ae15d531d1b",
   "metadata": {},
   "outputs": [],
   "source": []
  },
  {
   "cell_type": "code",
   "execution_count": null,
   "id": "43b1159f-5ac4-432b-9e52-a2bdebcbc50b",
   "metadata": {},
   "outputs": [],
   "source": []
  },
  {
   "cell_type": "code",
   "execution_count": 131,
   "id": "11cb84e9-a4ae-4889-a9f7-925066be8101",
   "metadata": {},
   "outputs": [],
   "source": [
    "import pickle\n",
    "\n",
    "data = {'entity_name2idx' : entity_name2idx,\n",
    "        'relation_name2idx' : relation_name2idx,\n",
    "        'train_triple_data' : train_triple_data,\n",
    "        'val_triple_data' : val_triple_data,\n",
    "        'test_triple_data' : test_triple_data}\n",
    "\n",
    "with open('KG_class_data_padding.pkl', 'wb') as f:\n",
    "    pickle.dump(data, f)"
   ]
  },
  {
   "cell_type": "code",
   "execution_count": null,
   "id": "4cb63bd3-28dc-4099-a8fb-9732ec6201a6",
   "metadata": {},
   "outputs": [],
   "source": []
  },
  {
   "cell_type": "code",
   "execution_count": null,
   "id": "60ee1340-b7be-41ef-91fb-e31200655323",
   "metadata": {},
   "outputs": [],
   "source": []
  },
  {
   "cell_type": "code",
   "execution_count": null,
   "id": "fd23c94d-d9bd-4d93-b5dd-ecf4c4889963",
   "metadata": {},
   "outputs": [],
   "source": [
    "'''\n",
    "user\n",
    "mat\n",
    "tag\n",
    "age (~20, 21-30, 31-40, 41-50, 51-60, 60~)\n",
    "eng_lv (1,2,3,...,12)\n",
    "'''\n",
    "'''\n",
    "user->mat : user-prefer_mat\n",
    "user->tag : user-tag\n",
    "mat->tag : mat-tag\n",
    "mat-lv : mat-englv\n",
    "user-age : user-age\n",
    "'''"
   ]
  }
 ],
 "metadata": {
  "kernelspec": {
   "display_name": "Python 3",
   "language": "python",
   "name": "python3"
  },
  "language_info": {
   "codemirror_mode": {
    "name": "ipython",
    "version": 3
   },
   "file_extension": ".py",
   "mimetype": "text/x-python",
   "name": "python",
   "nbconvert_exporter": "python",
   "pygments_lexer": "ipython3",
   "version": "3.6.9"
  }
 },
 "nbformat": 4,
 "nbformat_minor": 5
}
